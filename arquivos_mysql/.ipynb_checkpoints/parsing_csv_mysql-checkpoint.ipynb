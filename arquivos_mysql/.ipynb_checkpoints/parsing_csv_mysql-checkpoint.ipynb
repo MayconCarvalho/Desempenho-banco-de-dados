{
 "cells": [
  {
   "cell_type": "code",
   "execution_count": 1,
   "metadata": {},
   "outputs": [],
   "source": [
    "import pandas as pd\n",
    "cursos = pd.read_csv('../cursos-prouni.csv', sep = ',', low_memory=False)"
   ]
  },
  {
   "cell_type": "code",
   "execution_count": 2,
   "metadata": {},
   "outputs": [
    {
     "data": {
      "text/html": [
       "<div>\n",
       "<style scoped>\n",
       "    .dataframe tbody tr th:only-of-type {\n",
       "        vertical-align: middle;\n",
       "    }\n",
       "\n",
       "    .dataframe tbody tr th {\n",
       "        vertical-align: top;\n",
       "    }\n",
       "\n",
       "    .dataframe thead th {\n",
       "        text-align: right;\n",
       "    }\n",
       "</style>\n",
       "<table border=\"1\" class=\"dataframe\">\n",
       "  <thead>\n",
       "    <tr style=\"text-align: right;\">\n",
       "      <th></th>\n",
       "      <th>grau</th>\n",
       "      <th>turno</th>\n",
       "      <th>mensalidade</th>\n",
       "      <th>bolsa_integral_cotas</th>\n",
       "      <th>bolsa_integral_ampla</th>\n",
       "      <th>bolsa_parcial_cotas</th>\n",
       "      <th>bolsa_parcial_ampla</th>\n",
       "      <th>curso_id</th>\n",
       "      <th>curso_busca</th>\n",
       "      <th>cidade_busca</th>\n",
       "      <th>uf_busca</th>\n",
       "      <th>cidade_filtro</th>\n",
       "      <th>universidade_nome</th>\n",
       "      <th>campus_nome</th>\n",
       "      <th>campus_external_id</th>\n",
       "      <th>nome</th>\n",
       "      <th>nota_integral_ampla</th>\n",
       "      <th>nota_integral_cotas</th>\n",
       "      <th>nota_parcial_ampla</th>\n",
       "      <th>nota_parcial_cotas</th>\n",
       "    </tr>\n",
       "  </thead>\n",
       "  <tbody>\n",
       "    <tr>\n",
       "      <th>0</th>\n",
       "      <td>Bacharelado</td>\n",
       "      <td>Integral</td>\n",
       "      <td>9999.99</td>\n",
       "      <td>15.0</td>\n",
       "      <td>14.0</td>\n",
       "      <td>NaN</td>\n",
       "      <td>NaN</td>\n",
       "      <td>7.067100e+11</td>\n",
       "      <td>Medicina</td>\n",
       "      <td>Campo Grande</td>\n",
       "      <td>MS</td>\n",
       "      <td>NTAwMjAwNDAyNzA0</td>\n",
       "      <td>Universidade Anhanguera - UNIDERP</td>\n",
       "      <td>CAMPO GRANDE - SEDE - Miguel Couto</td>\n",
       "      <td>706710</td>\n",
       "      <td>Medicina</td>\n",
       "      <td>740.22</td>\n",
       "      <td>726.46</td>\n",
       "      <td>NaN</td>\n",
       "      <td>NaN</td>\n",
       "    </tr>\n",
       "    <tr>\n",
       "      <th>1</th>\n",
       "      <td>Bacharelado</td>\n",
       "      <td>Noturno</td>\n",
       "      <td>9836.40</td>\n",
       "      <td>1.0</td>\n",
       "      <td>NaN</td>\n",
       "      <td>NaN</td>\n",
       "      <td>NaN</td>\n",
       "      <td>1.041910e+14</td>\n",
       "      <td>Enfermagem</td>\n",
       "      <td>Crateus</td>\n",
       "      <td>CE</td>\n",
       "      <td>MjMwNDAxODA0MTAz</td>\n",
       "      <td>Faculdade Princesa do Oeste - FPO</td>\n",
       "      <td>UNIDADE SEDE - São Vicente</td>\n",
       "      <td>1041912</td>\n",
       "      <td>Enfermagem</td>\n",
       "      <td>663.36</td>\n",
       "      <td>NaN</td>\n",
       "      <td>NaN</td>\n",
       "      <td>NaN</td>\n",
       "    </tr>\n",
       "    <tr>\n",
       "      <th>2</th>\n",
       "      <td>Bacharelado</td>\n",
       "      <td>Integral</td>\n",
       "      <td>9715.61</td>\n",
       "      <td>2.0</td>\n",
       "      <td>5.0</td>\n",
       "      <td>6.0</td>\n",
       "      <td>10.0</td>\n",
       "      <td>1.002330e+12</td>\n",
       "      <td>Medicina</td>\n",
       "      <td>Sao Paulo</td>\n",
       "      <td>SP</td>\n",
       "      <td>MzUxNTA2MTUwMzA4</td>\n",
       "      <td>Universidade Cidade de São Paulo - UNICID</td>\n",
       "      <td>UNIVERSIDADE CIDADE DE SÃO PAULO - UNICID - SE...</td>\n",
       "      <td>1002328</td>\n",
       "      <td>Medicina</td>\n",
       "      <td>739.62</td>\n",
       "      <td>738.08</td>\n",
       "      <td>738.96</td>\n",
       "      <td>718.64</td>\n",
       "    </tr>\n",
       "    <tr>\n",
       "      <th>3</th>\n",
       "      <td>Bacharelado</td>\n",
       "      <td>Noturno</td>\n",
       "      <td>9689.34</td>\n",
       "      <td>3.0</td>\n",
       "      <td>2.0</td>\n",
       "      <td>NaN</td>\n",
       "      <td>NaN</td>\n",
       "      <td>1.041910e+14</td>\n",
       "      <td>Psicologia</td>\n",
       "      <td>Crateus</td>\n",
       "      <td>CE</td>\n",
       "      <td>MjMwNDAxODA0MTAz</td>\n",
       "      <td>Faculdade Princesa do Oeste - FPO</td>\n",
       "      <td>UNIDADE SEDE - São Vicente</td>\n",
       "      <td>1041912</td>\n",
       "      <td>Psicologia</td>\n",
       "      <td>651.00</td>\n",
       "      <td>652.22</td>\n",
       "      <td>NaN</td>\n",
       "      <td>NaN</td>\n",
       "    </tr>\n",
       "    <tr>\n",
       "      <th>4</th>\n",
       "      <td>Bacharelado</td>\n",
       "      <td>Integral</td>\n",
       "      <td>9674.34</td>\n",
       "      <td>4.0</td>\n",
       "      <td>1.0</td>\n",
       "      <td>5.0</td>\n",
       "      <td>2.0</td>\n",
       "      <td>6.589960e+13</td>\n",
       "      <td>Medicina</td>\n",
       "      <td>Rio Branco</td>\n",
       "      <td>AC</td>\n",
       "      <td>MTIwMjAwNDAwNDAx</td>\n",
       "      <td>Faculdade Barão do Rio Branco - FAB</td>\n",
       "      <td>CAMPUS  - RIO BRANCO - JARDIM EUROPA II - Jard...</td>\n",
       "      <td>658996</td>\n",
       "      <td>Medicina</td>\n",
       "      <td>758.32</td>\n",
       "      <td>723.94</td>\n",
       "      <td>734.92</td>\n",
       "      <td>711.26</td>\n",
       "    </tr>\n",
       "  </tbody>\n",
       "</table>\n",
       "</div>"
      ],
      "text/plain": [
       "          grau     turno  mensalidade  bolsa_integral_cotas  \\\n",
       "0  Bacharelado  Integral      9999.99                  15.0   \n",
       "1  Bacharelado   Noturno      9836.40                   1.0   \n",
       "2  Bacharelado  Integral      9715.61                   2.0   \n",
       "3  Bacharelado   Noturno      9689.34                   3.0   \n",
       "4  Bacharelado  Integral      9674.34                   4.0   \n",
       "\n",
       "   bolsa_integral_ampla  bolsa_parcial_cotas  bolsa_parcial_ampla  \\\n",
       "0                  14.0                  NaN                  NaN   \n",
       "1                   NaN                  NaN                  NaN   \n",
       "2                   5.0                  6.0                 10.0   \n",
       "3                   2.0                  NaN                  NaN   \n",
       "4                   1.0                  5.0                  2.0   \n",
       "\n",
       "       curso_id curso_busca  cidade_busca uf_busca     cidade_filtro  \\\n",
       "0  7.067100e+11    Medicina  Campo Grande       MS  NTAwMjAwNDAyNzA0   \n",
       "1  1.041910e+14  Enfermagem       Crateus       CE  MjMwNDAxODA0MTAz   \n",
       "2  1.002330e+12    Medicina     Sao Paulo       SP  MzUxNTA2MTUwMzA4   \n",
       "3  1.041910e+14  Psicologia       Crateus       CE  MjMwNDAxODA0MTAz   \n",
       "4  6.589960e+13    Medicina    Rio Branco       AC  MTIwMjAwNDAwNDAx   \n",
       "\n",
       "                           universidade_nome  \\\n",
       "0          Universidade Anhanguera - UNIDERP   \n",
       "1          Faculdade Princesa do Oeste - FPO   \n",
       "2  Universidade Cidade de São Paulo - UNICID   \n",
       "3          Faculdade Princesa do Oeste - FPO   \n",
       "4        Faculdade Barão do Rio Branco - FAB   \n",
       "\n",
       "                                         campus_nome  campus_external_id  \\\n",
       "0                 CAMPO GRANDE - SEDE - Miguel Couto              706710   \n",
       "1                         UNIDADE SEDE - São Vicente             1041912   \n",
       "2  UNIVERSIDADE CIDADE DE SÃO PAULO - UNICID - SE...             1002328   \n",
       "3                         UNIDADE SEDE - São Vicente             1041912   \n",
       "4  CAMPUS  - RIO BRANCO - JARDIM EUROPA II - Jard...              658996   \n",
       "\n",
       "         nome  nota_integral_ampla  nota_integral_cotas  nota_parcial_ampla  \\\n",
       "0    Medicina               740.22               726.46                 NaN   \n",
       "1  Enfermagem               663.36                  NaN                 NaN   \n",
       "2    Medicina               739.62               738.08              738.96   \n",
       "3  Psicologia               651.00               652.22                 NaN   \n",
       "4    Medicina               758.32               723.94              734.92   \n",
       "\n",
       "   nota_parcial_cotas  \n",
       "0                 NaN  \n",
       "1                 NaN  \n",
       "2              718.64  \n",
       "3                 NaN  \n",
       "4              711.26  "
      ]
     },
     "execution_count": 2,
     "metadata": {},
     "output_type": "execute_result"
    }
   ],
   "source": [
    "cursos.head(5)"
   ]
  },
  {
   "cell_type": "code",
   "execution_count": 3,
   "metadata": {},
   "outputs": [
    {
     "data": {
      "text/plain": [
       "grau                        0\n",
       "turno                       0\n",
       "mensalidade                 0\n",
       "bolsa_integral_cotas     8927\n",
       "bolsa_integral_ampla    16043\n",
       "bolsa_parcial_cotas     32619\n",
       "bolsa_parcial_ampla     28406\n",
       "curso_id                    0\n",
       "curso_busca                 0\n",
       "cidade_busca                0\n",
       "uf_busca                    0\n",
       "cidade_filtro               0\n",
       "universidade_nome           0\n",
       "campus_nome                 0\n",
       "campus_external_id          0\n",
       "nome                        0\n",
       "nota_integral_ampla      8927\n",
       "nota_integral_cotas     24645\n",
       "nota_parcial_ampla      25097\n",
       "nota_parcial_cotas      35928\n",
       "dtype: int64"
      ]
     },
     "execution_count": 3,
     "metadata": {},
     "output_type": "execute_result"
    }
   ],
   "source": [
    "cursos.isnull().sum()"
   ]
  },
  {
   "cell_type": "code",
   "execution_count": 4,
   "metadata": {},
   "outputs": [],
   "source": [
    "cursos.fillna(0, inplace=True)"
   ]
  },
  {
   "cell_type": "code",
   "execution_count": 5,
   "metadata": {},
   "outputs": [
    {
     "data": {
      "text/plain": [
       "grau                    0\n",
       "turno                   0\n",
       "mensalidade             0\n",
       "bolsa_integral_cotas    0\n",
       "bolsa_integral_ampla    0\n",
       "bolsa_parcial_cotas     0\n",
       "bolsa_parcial_ampla     0\n",
       "curso_id                0\n",
       "curso_busca             0\n",
       "cidade_busca            0\n",
       "uf_busca                0\n",
       "cidade_filtro           0\n",
       "universidade_nome       0\n",
       "campus_nome             0\n",
       "campus_external_id      0\n",
       "nome                    0\n",
       "nota_integral_ampla     0\n",
       "nota_integral_cotas     0\n",
       "nota_parcial_ampla      0\n",
       "nota_parcial_cotas      0\n",
       "dtype: int64"
      ]
     },
     "execution_count": 5,
     "metadata": {},
     "output_type": "execute_result"
    }
   ],
   "source": [
    "cursos.isnull().sum()"
   ]
  },
  {
   "cell_type": "code",
   "execution_count": 6,
   "metadata": {},
   "outputs": [],
   "source": [
    "def insertCursos():\n",
    "    arquivo = open('insertsCurso.sql', 'w')\n",
    "    columns=['curso_id', 'curso_busca', 'grau', 'turno', 'mensalidade', 'cidade_busca', 'campus_external_id']\n",
    "    tbl_curso = pd.DataFrame(cursos, columns=columns)\n",
    "    count = 1\n",
    "    for i in tbl_curso.values:\n",
    "        arquivo.write(str(i[0]) + \",\")\n",
    "        arquivo.write(\"\\\"\" + str(i[1]).replace(\",\", \"\") + \"\\\",\")\n",
    "        arquivo.write(\"\\\"\" + i[2] + \"\\\",\")\n",
    "        arquivo.write(\"\\\"\" + i[3] + \"\\\",\")\n",
    "        arquivo.write(str(i[4]) + \",\")\n",
    "        arquivo.write(\"\\\"\" + i[5] + \"\\\",\")\n",
    "        arquivo.write(str(i[6]) + \",\")\n",
    "        arquivo.write(str(count) + \",\")\n",
    "        arquivo.write(str(count) + \"\\n\")\n",
    "        count += 1\n",
    "    arquivo.close()"
   ]
  },
  {
   "cell_type": "code",
   "execution_count": 14,
   "metadata": {},
   "outputs": [],
   "source": [
    "def insertCidades():\n",
    "    arquivo = open('insertsCidades.sql', 'w')\n",
    "    cities = []\n",
    "    tbl_cidades = pd.DataFrame(cursos, columns=['cidade_busca', 'uf_busca', 'cidade_filtro'])\n",
    "    for i in tbl_cidades.values:\n",
    "        city = (i[0], i[1])\n",
    "        if city not in cities:\n",
    "            arquivo.write(\"\\\"\" + i[0] + \"\\\",\")\n",
    "            arquivo.write(\"\\\"\" + i[1] + \"\\\",\")\n",
    "            arquivo.write(\"\\\"\" + i[2] + \"\\\"\\n\")\n",
    "            cities.append(city)\n",
    "    arquivo.close()"
   ]
  },
  {
   "cell_type": "code",
   "execution_count": 8,
   "metadata": {},
   "outputs": [],
   "source": [
    "def insertUniversidades():\n",
    "    arquivo = open('insertsUniversidades.sql', 'w')\n",
    "    tbl_cidades = pd.DataFrame(cursos, columns=['campus_external_id', 'universidade_nome', 'campus_nome', 'nome'])\n",
    "    for i in tbl_cidades.values:\n",
    "        arquivo.write(str(i[0]) + \",\")\n",
    "        arquivo.write(\"\\\"\" + str(i[1]).replace(\",\", \"-\") + \"\\\",\")\n",
    "        arquivo.write(\"\\\"\" + str(i[2]).replace(\",\", \"-\") + \"\\\",\")\n",
    "        arquivo.write(\"\\\"\" + str(i[3]).replace(\",\", \"-\") + \"\\\"\\n\")\n",
    "    arquivo.close()"
   ]
  },
  {
   "cell_type": "code",
   "execution_count": 9,
   "metadata": {},
   "outputs": [],
   "source": [
    "def insertNotas():\n",
    "    arquivo = open('insertsNotas.sql', 'w')\n",
    "    tbl_cidades = pd.DataFrame(cursos, columns=['nota_integral_ampla', 'nota_integral_cotas', 'nota_parcial_ampla', 'nota_parcial_cotas'])\n",
    "    for i in tbl_cidades.values:\n",
    "        arquivo.write(str(i[0]) + \",\")\n",
    "        arquivo.write(str(i[1]) + \",\")\n",
    "        arquivo.write(str(i[2]) + \",\")\n",
    "        arquivo.write(str(i[3]) + \"\\n\")\n",
    "    arquivo.close()"
   ]
  },
  {
   "cell_type": "code",
   "execution_count": 10,
   "metadata": {},
   "outputs": [],
   "source": [
    "def insertBolsas():\n",
    "    arquivo = open('insertsBolsas.sql', 'w')\n",
    "    tbl_cidades = pd.DataFrame(cursos, columns=['bolsa_integral_cotas', 'bolsa_integral_ampla', 'bolsa_parcial_cotas', 'bolsa_parcial_ampla'])\n",
    "    for i in tbl_cidades.values:\n",
    "        arquivo.write(str(i[0]) + \",\")\n",
    "        arquivo.write(str(i[1]) + \",\")\n",
    "        arquivo.write(str(i[2]) + \",\")\n",
    "        arquivo.write(str(i[3]) + \"\\n\")\n",
    "    arquivo.close()"
   ]
  },
  {
   "cell_type": "code",
   "execution_count": 48,
   "metadata": {},
   "outputs": [],
   "source": [
    "insertCursos()"
   ]
  },
  {
   "cell_type": "code",
   "execution_count": 15,
   "metadata": {},
   "outputs": [],
   "source": [
    "insertCidades()"
   ]
  },
  {
   "cell_type": "code",
   "execution_count": 20,
   "metadata": {},
   "outputs": [],
   "source": [
    "insertUniversidades()"
   ]
  },
  {
   "cell_type": "code",
   "execution_count": 17,
   "metadata": {},
   "outputs": [],
   "source": [
    "insertNotas()"
   ]
  },
  {
   "cell_type": "code",
   "execution_count": 18,
   "metadata": {},
   "outputs": [],
   "source": [
    "insertBolsas()"
   ]
  },
  {
   "cell_type": "code",
   "execution_count": null,
   "metadata": {},
   "outputs": [],
   "source": []
  }
 ],
 "metadata": {
  "kernelspec": {
   "display_name": "Python 3",
   "language": "python",
   "name": "python3"
  },
  "language_info": {
   "codemirror_mode": {
    "name": "ipython",
    "version": 3
   },
   "file_extension": ".py",
   "mimetype": "text/x-python",
   "name": "python",
   "nbconvert_exporter": "python",
   "pygments_lexer": "ipython3",
   "version": "3.7.6"
  }
 },
 "nbformat": 4,
 "nbformat_minor": 4
}
