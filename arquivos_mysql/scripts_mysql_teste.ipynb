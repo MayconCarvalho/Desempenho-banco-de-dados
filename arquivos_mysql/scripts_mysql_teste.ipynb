{
 "cells": [
  {
   "cell_type": "code",
   "execution_count": 14,
   "metadata": {},
   "outputs": [],
   "source": [
    "# documentação: https://www.w3schools.com/python/python_mysql_getstarted.asp\n",
    "import mysql.connector\n",
    "import time\n",
    "import matplotlib\n",
    "import matplotlib.pyplot as plt\n",
    "import numpy as np\n",
    "import seaborn as sns\n",
    "sns.set(style=\"white\")\n",
    "%matplotlib inline"
   ]
  },
  {
   "cell_type": "code",
   "execution_count": 15,
   "metadata": {},
   "outputs": [],
   "source": [
    "mysql = mysql.connector.connect(\n",
    "    host     = \"localhost\",\n",
    "    user     = \"root\",\n",
    "    passwd   = \"\"\n",
    ")\n",
    "\n",
    "mysqlcursor = mysql.cursor()"
   ]
  },
  {
   "cell_type": "code",
   "execution_count": 3,
   "metadata": {},
   "outputs": [],
   "source": [
    "mysqlcursor.execute(\"CREATE DATABASE IF NOT EXISTS database_nosql_teste\")"
   ]
  },
  {
   "cell_type": "code",
   "execution_count": 16,
   "metadata": {},
   "outputs": [],
   "source": [
    "mysqlcursor.execute(\"Use database_nosql_teste\")"
   ]
  },
  {
   "cell_type": "code",
   "execution_count": 5,
   "metadata": {},
   "outputs": [],
   "source": [
    "def createTables():\n",
    "    tabelasSQL = open(\"tabelas_mysql.sql\", \"r\")\n",
    "    criarTabelas = tabelasSQL.read().split(\";\")\n",
    "    criarTabelas = [str(el).replace(\"\\n\", \"\") for el in criarTabelas]\n",
    "    for i in criarTabelas:\n",
    "        mysqlcursor.execute(i)\n",
    "        \n",
    "createTables()"
   ]
  },
  {
   "cell_type": "code",
   "execution_count": 6,
   "metadata": {},
   "outputs": [],
   "source": [
    "def deleteTables():\n",
    "    mysqlcursor.execute(\"DROP TABLE curso\")\n",
    "    mysqlcursor.execute(\"DROP TABLE bolsas\")\n",
    "    mysqlcursor.execute(\"DROP TABLE cidade\")\n",
    "    mysqlcursor.execute(\"DROP TABLE notas\")\n",
    "    mysqlcursor.execute(\"DROP TABLE universidade\")"
   ]
  },
  {
   "cell_type": "code",
   "execution_count": 7,
   "metadata": {},
   "outputs": [],
   "source": [
    "def getTuple(linhas):\n",
    "    valores = []\n",
    "    for i in linhas:\n",
    "        i = i.replace(\"\\n\", \"\")\n",
    "        i = map(str, i.split(\",\"))\n",
    "        valores.append(tuple([el.replace(\"\\\"\", \"\") for el in i]))\n",
    "    return valores"
   ]
  },
  {
   "cell_type": "code",
   "execution_count": 8,
   "metadata": {},
   "outputs": [],
   "source": [
    "insertUni = \"INSERT INTO universidade \"\n",
    "insertUni += \"(`campus_external_id`, `universidade_nome`, `campus_nome`, `nome`) \"\n",
    "insertUni += \"VALUES (%s, %s, %s, %s)\"\n",
    "\n",
    "insertNotas = \"INSERT INTO notas \"\n",
    "insertNotas += \"(`nota_integral_ampla`, `nota_integral_cotas`, `nota_parcial_ampla`, `nota_parcial_cotas`) \"\n",
    "insertNotas += \"VALUES (%s, %s, %s, %s)\"\n",
    "\n",
    "insertCidade = \"INSERT INTO cidade \"\n",
    "insertCidade += \"(`cidade_busca`, `uf_busca`, `cidade_filtro`) \"\n",
    "insertCidade += \"VALUES (%s, %s, %s)\"\n",
    "\n",
    "insertBolsa = \"INSERT INTO bolsas \"\n",
    "insertBolsa += \"(`bolsa_integral_cotas`, `bolsa_integral_ampla`, `bolsa_parcial_cotas`, `bolsa_parcial_ampla`) \"\n",
    "insertBolsa += \"VALUES (%s, %s, %s, %s)\"\n",
    "\n",
    "insertCurso = \"INSERT INTO curso \"\n",
    "insertCurso += \"(`curso_id`, `curso_busca`, `grau`, `turno`, `mensalidade`, `cidade_id`, `universidade_id`, `notas_id`, `bolsas_id`) \"\n",
    "insertCurso += \"VALUES (%s, %s, %s, %s, %s, %s, %s, %s, %s)\""
   ]
  },
  {
   "cell_type": "code",
   "execution_count": 9,
   "metadata": {},
   "outputs": [],
   "source": [
    "valuesUniversidade = getTuple(open(\"insertsUniversidades.sql\", \"r\").readlines())\n",
    "valuesBolsa = getTuple(open(\"insertsBolsas.sql\", \"r\").readlines())\n",
    "valuesCidade = getTuple(open(\"insertsCidades.sql\", \"r\").readlines())\n",
    "valuesNota = getTuple(open(\"insertsNotas.sql\", \"r\").readlines())\n",
    "valuesCurso = getTuple(open(\"insertsCurso.sql\", \"r\").readlines())"
   ]
  },
  {
   "cell_type": "code",
   "execution_count": 10,
   "metadata": {},
   "outputs": [
    {
     "name": "stdout",
     "output_type": "stream",
     "text": [
      "tempo gasto para inserir todos os elementos: 39.306227922439575 s\n"
     ]
    }
   ],
   "source": [
    "inicio = time.time()\n",
    "for j in valuesUniversidade:\n",
    "    mysqlcursor.execute(insertUni, j)\n",
    "mysql.commit()\n",
    "for j in valuesBolsa:\n",
    "    mysqlcursor.execute(insertBolsa, j)\n",
    "mysql.commit()\n",
    "for j in valuesNota:\n",
    "    mysqlcursor.execute(insertNotas, j)\n",
    "mysql.commit()\n",
    "for j in valuesCidade:\n",
    "    mysqlcursor.execute(insertCidade, j)\n",
    "mysql.commit()\n",
    "for j in valuesCurso:\n",
    "    mysqlcursor.execute(insertCurso, j)\n",
    "mysql.commit()\n",
    "fim = time.time()\n",
    "tempoInsert = fim-inicio\n",
    "print(f\"tempo gasto para inserir todos os elementos: {tempoInsert} s\")"
   ]
  },
  {
   "cell_type": "code",
   "execution_count": 11,
   "metadata": {},
   "outputs": [
    {
     "name": "stdout",
     "output_type": "stream",
     "text": [
      "tempo gasto para buscar todos os elementos: 0.009923696517944336 s\n"
     ]
    }
   ],
   "source": [
    "query = \"\"\"\n",
    "select * \n",
    "from curso c\n",
    "inner join notas n\n",
    "on c.notas_id = n.id\n",
    "inner join bolsas b\n",
    "on c.bolsas_id = b.id\n",
    "inner join universidade u\n",
    "on universidade_id = u.campus_external_id\n",
    "inner join cidade ci\n",
    "on c.cidade_id = ci.cidade_busca\n",
    "\"\"\"\n",
    "inicio = time.time()\n",
    "mysqlcursor.execute(query)\n",
    "fim = time.time()\n",
    "tempoSelect = fim-inicio\n",
    "print(f\"tempo gasto para buscar todos os elementos: {tempoSelect} s\")"
   ]
  },
  {
   "cell_type": "code",
   "execution_count": 12,
   "metadata": {},
   "outputs": [],
   "source": [
    "updateUni = \"UPDATE universidade SET nome = concat('curso: ',  nome)\"\n",
    "updateBolsa = \"UPDATE bolsas SET bolsa_integral_cotas=bolsa_integral_cotas+5, bolsa_parcial_cotas=bolsa_parcial_cotas+10\"\n",
    "updateNotas = \"UPDATE notas SET nota_integral_ampla=nota_integral_ampla*1.05, nota_parcial_ampla=nota_parcial_ampla*0.95\"\n",
    "updateCidade = \"UPDATE cidade SET cidade_busca = concat(cidade_busca, uf_busca)\"\n",
    "updateCurso = \"UPDATE curso SET mensalidade=mensalidade*1.05\""
   ]
  },
  {
   "cell_type": "code",
   "execution_count": 17,
   "metadata": {},
   "outputs": [
    {
     "name": "stdout",
     "output_type": "stream",
     "text": [
      "tempo gasto para buscar apagar os elementos das tabelas: 4.306722402572632 s\n"
     ]
    }
   ],
   "source": [
    "inicio = time.time()\n",
    "mysqlcursor.execute(updateBolsa)\n",
    "mysql.commit()\n",
    "mysqlcursor.execute(updateCidade)\n",
    "mysql.commit()\n",
    "mysqlcursor.execute(updateUni)\n",
    "mysql.commit()\n",
    "mysqlcursor.execute(updateNotas)\n",
    "mysql.commit()\n",
    "mysqlcursor.execute(updateCurso)\n",
    "mysql.commit()\n",
    "fim = time.time()\n",
    "tempoUpdate = fim-inicio\n",
    "print(f\"tempo gasto para buscar apagar os elementos das tabelas: {tempoUpdate} s\")"
   ]
  },
  {
   "cell_type": "code",
   "execution_count": 18,
   "metadata": {},
   "outputs": [],
   "source": [
    "deleteUni = \"DELETE FROM universidade\"\n",
    "deleteBolsa = \"DELETE FROM bolsas\"\n",
    "deleteCidade = \"DELETE FROM cidade\"\n",
    "deleteNotas = \"DELETE FROM notas\"\n",
    "deleteCurso = \"DELETE FROM curso\""
   ]
  },
  {
   "cell_type": "code",
   "execution_count": 19,
   "metadata": {},
   "outputs": [
    {
     "name": "stdout",
     "output_type": "stream",
     "text": [
      "tempo gasto para buscar apagar os elementos das tabelas: 3.0610716342926025 s\n"
     ]
    }
   ],
   "source": [
    "inicio = time.time()\n",
    "mysqlcursor.execute(deleteBolsa)\n",
    "mysql.commit()\n",
    "mysqlcursor.execute(deleteCidade)\n",
    "mysql.commit()\n",
    "mysqlcursor.execute(deleteUni)\n",
    "mysql.commit()\n",
    "mysqlcursor.execute(deleteNotas)\n",
    "mysql.commit()\n",
    "mysqlcursor.execute(deleteCurso)\n",
    "mysql.commit()\n",
    "fim = time.time()\n",
    "tempoDelete = fim-inicio\n",
    "print(f\"tempo gasto para buscar apagar os elementos das tabelas: {tempoDelete} s\")"
   ]
  },
  {
   "cell_type": "code",
   "execution_count": 20,
   "metadata": {},
   "outputs": [
    {
     "data": {
      "image/png": "[encoded data removed]",
      "text/plain": [
       "<Figure size 576x576 with 1 Axes>"
      ]
     },
     "metadata": {
      "needs_background": "light"
     },
     "output_type": "display_data"
    }
   ],
   "source": [
    "x = ['insert', 'select', 'update', 'delete']\n",
    "y = [tempoInsert, tempoSelect, tempoUpdate, tempoDelete]\n",
    "p = plt.figure(figsize=(8, 8))\n",
    "plt.bar(x, y, label = 'Barras')\n",
    "plt.xlabel('Métodos do mysql')\n",
    "plt.ylabel('Tempo gasto (s)')\n",
    "plt.title('Tempo gasto em segundos de cada método do MySql para esse dataset')\n",
    "\n",
    "eixoY = [tempoInsert, tempoUpdate, tempoSelect, tempoDelete]\n",
    "eixoX = [0.32, 2.3, 1.3, 3.3]\n",
    "for i in range(len(eixoX)):\n",
    "    plt.text(x = eixoX[i]-0.5 , y = eixoY[i]+0.3, s = round(eixoY[i], 4), size = 12)\n",
    "\n",
    "plt.show()"
   ]
  },
  {
   "cell_type": "code",
   "execution_count": 21,
   "metadata": {},
   "outputs": [],
   "source": [
    "p.savefig('graficoTempoMysql.png', format='png')"
   ]
  },
  {
   "cell_type": "code",
   "execution_count": 22,
   "metadata": {},
   "outputs": [],
   "source": [
    "deleteTables()"
   ]
  },
  {
   "cell_type": "code",
   "execution_count": 23,
   "metadata": {},
   "outputs": [],
   "source": [
    "mysqlcursor.execute(\"DROP DATABASE database_nosql_teste\")"
   ]
  },
  {
   "cell_type": "code",
   "execution_count": null,
   "metadata": {},
   "outputs": [],
   "source": []
  }
 ],
 "metadata": {
  "kernelspec": {
   "display_name": "Python 3",
   "language": "python",
   "name": "python3"
  },
  "language_info": {
   "codemirror_mode": {
    "name": "ipython",
    "version": 3
   },
   "file_extension": ".py",
   "mimetype": "text/x-python",
   "name": "python",
   "nbconvert_exporter": "python",
   "pygments_lexer": "ipython3",
   "version": "3.7.6"
  }
 },
 "nbformat": 4,
 "nbformat_minor": 4
}
